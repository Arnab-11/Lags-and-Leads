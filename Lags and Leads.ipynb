{
 "cells": [
  {
   "cell_type": "markdown",
   "id": "4fac7346-f503-4b54-93bf-d36bd83beeb3",
   "metadata": {
    "tags": []
   },
   "source": [
    "# How to create \"lags\" and \"leads\" of a column in a pandas DataFrame\n",
    "\n",
    "In Python, the ***pandas*** library includes built-in functionalities that allow you to perform different tasks with only a few lines of code. One of these functionalities is the creation of lags and leads of a column.\n",
    "\n",
    "- ***lag*** shifts a column down by a certain number.\n",
    "- ***lead*** shifts a column up by a certain number.\n",
    "\n",
    "## *Method*\n",
    "\n",
    "In this method, we first initialize a pandas dataframe with a numpy array as input. Then we select a column and apply lead and lag by shifting that column up and down, respectively."
   ]
  },
  {
   "cell_type": "code",
   "execution_count": 1,
   "id": "d29aee21-e9c1-49a8-9b7d-e5ce8d308b06",
   "metadata": {
    "tags": []
   },
   "outputs": [],
   "source": [
    "#importing pandas and numpy libraries\n",
    "import pandas as pd\n",
    "import numpy as np"
   ]
  },
  {
   "cell_type": "code",
   "execution_count": 2,
   "id": "a2952424-f91d-4fc7-9504-962b92a52e91",
   "metadata": {},
   "outputs": [
    {
     "data": {
      "text/html": [
       "<div>\n",
       "<style scoped>\n",
       "    .dataframe tbody tr th:only-of-type {\n",
       "        vertical-align: middle;\n",
       "    }\n",
       "\n",
       "    .dataframe tbody tr th {\n",
       "        vertical-align: top;\n",
       "    }\n",
       "\n",
       "    .dataframe thead th {\n",
       "        text-align: right;\n",
       "    }\n",
       "</style>\n",
       "<table border=\"1\" class=\"dataframe\">\n",
       "  <thead>\n",
       "    <tr style=\"text-align: right;\">\n",
       "      <th></th>\n",
       "      <th>A</th>\n",
       "      <th>B</th>\n",
       "    </tr>\n",
       "  </thead>\n",
       "  <tbody>\n",
       "    <tr>\n",
       "      <th>0</th>\n",
       "      <td>26</td>\n",
       "      <td>92</td>\n",
       "    </tr>\n",
       "    <tr>\n",
       "      <th>1</th>\n",
       "      <td>75</td>\n",
       "      <td>76</td>\n",
       "    </tr>\n",
       "    <tr>\n",
       "      <th>2</th>\n",
       "      <td>94</td>\n",
       "      <td>80</td>\n",
       "    </tr>\n",
       "    <tr>\n",
       "      <th>3</th>\n",
       "      <td>81</td>\n",
       "      <td>64</td>\n",
       "    </tr>\n",
       "    <tr>\n",
       "      <th>4</th>\n",
       "      <td>53</td>\n",
       "      <td>29</td>\n",
       "    </tr>\n",
       "  </tbody>\n",
       "</table>\n",
       "</div>"
      ],
      "text/plain": [
       "    A   B\n",
       "0  26  92\n",
       "1  75  76\n",
       "2  94  80\n",
       "3  81  64\n",
       "4  53  29"
      ]
     },
     "execution_count": 2,
     "metadata": {},
     "output_type": "execute_result"
    }
   ],
   "source": [
    "#initializing pandas dataframe with numpy arrays\n",
    "df = pd.DataFrame(np.random.randint(1, 100, 10).reshape(-1, 2), columns = list('AB'))\n",
    "df"
   ]
  },
  {
   "cell_type": "code",
   "execution_count": 3,
   "id": "cd3922b2-3978-4dfc-b5ff-e479dca9c6a5",
   "metadata": {},
   "outputs": [],
   "source": [
    "#applying leads and lags by shifting dataframe column up and down respectively\n",
    "\n",
    "#lags - shifting dataframe column down\n",
    "df['lag(A,1)'] = df['A'].shift(1)\n",
    "df['lag(A,2)'] = df['A'].shift(5)\n",
    "\n",
    "#leads - shifting dataframe column up\n",
    "df['lead(B,1)'] = df['B'].shift(-1)\n",
    "df['lead(B,2)'] = df['B'].shift(-3)"
   ]
  },
  {
   "cell_type": "code",
   "execution_count": 4,
   "id": "98bf7d01-9b80-4d21-af96-22df59eb6ff2",
   "metadata": {},
   "outputs": [
    {
     "data": {
      "text/html": [
       "<div>\n",
       "<style scoped>\n",
       "    .dataframe tbody tr th:only-of-type {\n",
       "        vertical-align: middle;\n",
       "    }\n",
       "\n",
       "    .dataframe tbody tr th {\n",
       "        vertical-align: top;\n",
       "    }\n",
       "\n",
       "    .dataframe thead th {\n",
       "        text-align: right;\n",
       "    }\n",
       "</style>\n",
       "<table border=\"1\" class=\"dataframe\">\n",
       "  <thead>\n",
       "    <tr style=\"text-align: right;\">\n",
       "      <th></th>\n",
       "      <th>A</th>\n",
       "      <th>B</th>\n",
       "      <th>lag(A,1)</th>\n",
       "      <th>lag(A,2)</th>\n",
       "      <th>lead(B,1)</th>\n",
       "      <th>lead(B,2)</th>\n",
       "    </tr>\n",
       "  </thead>\n",
       "  <tbody>\n",
       "    <tr>\n",
       "      <th>0</th>\n",
       "      <td>26</td>\n",
       "      <td>92</td>\n",
       "      <td>NaN</td>\n",
       "      <td>NaN</td>\n",
       "      <td>76.0</td>\n",
       "      <td>64.0</td>\n",
       "    </tr>\n",
       "    <tr>\n",
       "      <th>1</th>\n",
       "      <td>75</td>\n",
       "      <td>76</td>\n",
       "      <td>26.0</td>\n",
       "      <td>NaN</td>\n",
       "      <td>80.0</td>\n",
       "      <td>29.0</td>\n",
       "    </tr>\n",
       "    <tr>\n",
       "      <th>2</th>\n",
       "      <td>94</td>\n",
       "      <td>80</td>\n",
       "      <td>75.0</td>\n",
       "      <td>NaN</td>\n",
       "      <td>64.0</td>\n",
       "      <td>NaN</td>\n",
       "    </tr>\n",
       "    <tr>\n",
       "      <th>3</th>\n",
       "      <td>81</td>\n",
       "      <td>64</td>\n",
       "      <td>94.0</td>\n",
       "      <td>NaN</td>\n",
       "      <td>29.0</td>\n",
       "      <td>NaN</td>\n",
       "    </tr>\n",
       "    <tr>\n",
       "      <th>4</th>\n",
       "      <td>53</td>\n",
       "      <td>29</td>\n",
       "      <td>81.0</td>\n",
       "      <td>NaN</td>\n",
       "      <td>NaN</td>\n",
       "      <td>NaN</td>\n",
       "    </tr>\n",
       "  </tbody>\n",
       "</table>\n",
       "</div>"
      ],
      "text/plain": [
       "    A   B  lag(A,1)  lag(A,2)  lead(B,1)  lead(B,2)\n",
       "0  26  92       NaN       NaN       76.0       64.0\n",
       "1  75  76      26.0       NaN       80.0       29.0\n",
       "2  94  80      75.0       NaN       64.0        NaN\n",
       "3  81  64      94.0       NaN       29.0        NaN\n",
       "4  53  29      81.0       NaN        NaN        NaN"
      ]
     },
     "execution_count": 4,
     "metadata": {},
     "output_type": "execute_result"
    }
   ],
   "source": [
    "df"
   ]
  },
  {
   "cell_type": "code",
   "execution_count": null,
   "id": "ecbc054a-81aa-41fa-9b08-31aef25a6898",
   "metadata": {},
   "outputs": [],
   "source": []
  }
 ],
 "metadata": {
  "kernelspec": {
   "display_name": "Python 3 (ipykernel)",
   "language": "python",
   "name": "python3"
  },
  "language_info": {
   "codemirror_mode": {
    "name": "ipython",
    "version": 3
   },
   "file_extension": ".py",
   "mimetype": "text/x-python",
   "name": "python",
   "nbconvert_exporter": "python",
   "pygments_lexer": "ipython3",
   "version": "3.10.4"
  }
 },
 "nbformat": 4,
 "nbformat_minor": 5
}
